{
 "cells": [
  {
   "cell_type": "code",
   "execution_count": 1,
   "metadata": {
    "id": "kqpsPbCk7c7D"
   },
   "outputs": [],
   "source": [
    "import pandas as pd"
   ]
  },
  {
   "cell_type": "code",
   "execution_count": null,
   "metadata": {
    "id": "tu_hfjO77c7I"
   },
   "outputs": [],
   "source": [
    "train = pd.read_parquet('data_fusion_train.parquet')\n",
    "train = train[train.category_id != -1].drop_duplicates('item_name')"
   ]
  },
  {
   "cell_type": "code",
   "execution_count": null,
   "metadata": {
    "id": "CqBj3OM33VaD"
   },
   "outputs": [],
   "source": [
    "from collections import Counter"
   ]
  },
  {
   "cell_type": "code",
   "execution_count": null,
   "metadata": {
    "id": "p5zuEtpG3W3r"
   },
   "outputs": [],
   "source": [
    "prepositions = ['в', 'шт', 'кг', 'без', 'до', 'из', 'к', 'на', 'по', 'о', 'от', 'перед', 'при', 'через', 'с', 'у', 'за', 'над', 'об', 'под', 'про', 'для', 'вблизи', 'вглубь', 'вдоль', 'возле', 'около', 'вокруг', 'впереди', 'после', 'посредством', 'путём', 'насчёт', 'поводу', 'ввиду', 'случаю', 'течение', 'благодаря', 'несмотря на', 'спустя']"
   ]
  },
  {
   "cell_type": "code",
   "execution_count": null,
   "metadata": {
    "id": "7UlGHCPnYmay"
   },
   "outputs": [],
   "source": [
    "book = {}\n",
    "\n",
    "for id in train['category_id'].unique():\n",
    "    df = pd.DataFrame(train[train['category_id'] == id]['item_name'])\n",
    "  \n",
    "    count = Counter(\" \".join(df[\"item_name\"]).lower().split()).most_common(10)\n",
    "  \n",
    "    if not count: continue\n",
    "  \n",
    "    result = \"\"\n",
    "  \n",
    "    for j in count:\n",
    "        n = j[0]\n",
    "\n",
    "        if (len(n) < 3 or n in prepositions or not n.isalpha()): continue\n",
    "    \n",
    "        result = n\n",
    "    \n",
    "        break\n",
    "  \n",
    "    book[id] = result\n",
    "\n",
    "frequent = pd.DataFrame.from_dict(book, orient='index')"
   ]
  },
  {
   "cell_type": "code",
   "execution_count": null,
   "metadata": {
    "colab": {
     "base_uri": "https://localhost:8080/",
     "height": 407
    },
    "id": "4cmR4yt43Sqi",
    "outputId": "e172ef1f-cee1-464a-8eb4-8fdc633bc304"
   },
   "outputs": [
    {
     "data": {
      "text/html": [
       "<div>\n",
       "<style scoped>\n",
       "    .dataframe tbody tr th:only-of-type {\n",
       "        vertical-align: middle;\n",
       "    }\n",
       "\n",
       "    .dataframe tbody tr th {\n",
       "        vertical-align: top;\n",
       "    }\n",
       "\n",
       "    .dataframe thead th {\n",
       "        text-align: right;\n",
       "    }\n",
       "</style>\n",
       "<table border=\"1\" class=\"dataframe\">\n",
       "  <thead>\n",
       "    <tr style=\"text-align: right;\">\n",
       "      <th></th>\n",
       "      <th>0</th>\n",
       "    </tr>\n",
       "  </thead>\n",
       "  <tbody>\n",
       "    <tr>\n",
       "      <th>78</th>\n",
       "      <td>молоко</td>\n",
       "    </tr>\n",
       "    <tr>\n",
       "      <th>71</th>\n",
       "      <td>салат</td>\n",
       "    </tr>\n",
       "    <tr>\n",
       "      <th>70</th>\n",
       "      <td>кофе</td>\n",
       "    </tr>\n",
       "    <tr>\n",
       "      <th>84</th>\n",
       "      <td>хлеб</td>\n",
       "    </tr>\n",
       "    <tr>\n",
       "      <th>69</th>\n",
       "      <td>фри</td>\n",
       "    </tr>\n",
       "    <tr>\n",
       "      <th>...</th>\n",
       "      <td>...</td>\n",
       "    </tr>\n",
       "    <tr>\n",
       "      <th>111</th>\n",
       "      <td>сифон</td>\n",
       "    </tr>\n",
       "    <tr>\n",
       "      <th>58</th>\n",
       "      <td>платье</td>\n",
       "    </tr>\n",
       "    <tr>\n",
       "      <th>54</th>\n",
       "      <td>куртка</td>\n",
       "    </tr>\n",
       "    <tr>\n",
       "      <th>97</th>\n",
       "      <td>ласты</td>\n",
       "    </tr>\n",
       "    <tr>\n",
       "      <th>46</th>\n",
       "      <td>одеколон</td>\n",
       "    </tr>\n",
       "  </tbody>\n",
       "</table>\n",
       "<p>96 rows × 1 columns</p>\n",
       "</div>"
      ],
      "text/plain": [
       "            0\n",
       "78     молоко\n",
       "71      салат\n",
       "70       кофе\n",
       "84       хлеб\n",
       "69        фри\n",
       "..        ...\n",
       "111     сифон\n",
       "58     платье\n",
       "54     куртка\n",
       "97      ласты\n",
       "46   одеколон\n",
       "\n",
       "[96 rows x 1 columns]"
      ]
     },
     "execution_count": 43,
     "metadata": {
      "tags": []
     },
     "output_type": "execute_result"
    }
   ],
   "source": [
    "frequent"
   ]
  },
  {
   "cell_type": "code",
   "execution_count": null,
   "metadata": {
    "id": "WnBsaPCc4R_q"
   },
   "outputs": [],
   "source": [
    "import numpy as np\n",
    "\n",
    "train['most_common'] = train['category_id'].apply(lambda x: frequent.loc[x]) "
   ]
  },
  {
   "cell_type": "code",
   "execution_count": null,
   "metadata": {
    "colab": {
     "base_uri": "https://localhost:8080/",
     "height": 407
    },
    "id": "I26Bahcf5ORO",
    "outputId": "7d670141-18b9-45ac-a5af-5978430962e0"
   },
   "outputs": [
    {
     "data": {
      "text/html": [
       "<div>\n",
       "<style scoped>\n",
       "    .dataframe tbody tr th:only-of-type {\n",
       "        vertical-align: middle;\n",
       "    }\n",
       "\n",
       "    .dataframe tbody tr th {\n",
       "        vertical-align: top;\n",
       "    }\n",
       "\n",
       "    .dataframe thead th {\n",
       "        text-align: right;\n",
       "    }\n",
       "</style>\n",
       "<table border=\"1\" class=\"dataframe\">\n",
       "  <thead>\n",
       "    <tr style=\"text-align: right;\">\n",
       "      <th></th>\n",
       "      <th>receipt_id</th>\n",
       "      <th>receipt_dayofweek</th>\n",
       "      <th>receipt_time</th>\n",
       "      <th>item_name</th>\n",
       "      <th>item_quantity</th>\n",
       "      <th>item_price</th>\n",
       "      <th>item_nds_rate</th>\n",
       "      <th>category_id</th>\n",
       "      <th>brands</th>\n",
       "      <th>most_common</th>\n",
       "    </tr>\n",
       "  </thead>\n",
       "  <tbody>\n",
       "    <tr>\n",
       "      <th>1</th>\n",
       "      <td>11</td>\n",
       "      <td>6</td>\n",
       "      <td>20:34</td>\n",
       "      <td>Молоко 3,2%,шт</td>\n",
       "      <td>2.000</td>\n",
       "      <td>8</td>\n",
       "      <td>2</td>\n",
       "      <td>78</td>\n",
       "      <td>None</td>\n",
       "      <td>молоко</td>\n",
       "    </tr>\n",
       "    <tr>\n",
       "      <th>3</th>\n",
       "      <td>39</td>\n",
       "      <td>4</td>\n",
       "      <td>11:28</td>\n",
       "      <td>Компот из изюма, 114 ккал</td>\n",
       "      <td>1.000</td>\n",
       "      <td>4</td>\n",
       "      <td>1</td>\n",
       "      <td>71</td>\n",
       "      <td>None</td>\n",
       "      <td>салат</td>\n",
       "    </tr>\n",
       "    <tr>\n",
       "      <th>4</th>\n",
       "      <td>39</td>\n",
       "      <td>4</td>\n",
       "      <td>11:28</td>\n",
       "      <td>Макаронные изделия отварные (масло сливочное),...</td>\n",
       "      <td>1.000</td>\n",
       "      <td>4</td>\n",
       "      <td>1</td>\n",
       "      <td>71</td>\n",
       "      <td>None</td>\n",
       "      <td>салат</td>\n",
       "    </tr>\n",
       "    <tr>\n",
       "      <th>17</th>\n",
       "      <td>56</td>\n",
       "      <td>5</td>\n",
       "      <td>11:42</td>\n",
       "      <td>Кофе Капучино Большой Эден 18</td>\n",
       "      <td>1.000</td>\n",
       "      <td>12</td>\n",
       "      <td>1</td>\n",
       "      <td>70</td>\n",
       "      <td>None</td>\n",
       "      <td>кофе</td>\n",
       "    </tr>\n",
       "    <tr>\n",
       "      <th>40</th>\n",
       "      <td>105</td>\n",
       "      <td>3</td>\n",
       "      <td>01:53</td>\n",
       "      <td>Хлеб на СЫВОРОТКЕ 350г</td>\n",
       "      <td>1.000</td>\n",
       "      <td>7</td>\n",
       "      <td>-1</td>\n",
       "      <td>84</td>\n",
       "      <td>None</td>\n",
       "      <td>хлеб</td>\n",
       "    </tr>\n",
       "    <tr>\n",
       "      <th>...</th>\n",
       "      <td>...</td>\n",
       "      <td>...</td>\n",
       "      <td>...</td>\n",
       "      <td>...</td>\n",
       "      <td>...</td>\n",
       "      <td>...</td>\n",
       "      <td>...</td>\n",
       "      <td>...</td>\n",
       "      <td>...</td>\n",
       "      <td>...</td>\n",
       "    </tr>\n",
       "    <tr>\n",
       "      <th>45669181</th>\n",
       "      <td>9880594</td>\n",
       "      <td>2</td>\n",
       "      <td>20:11</td>\n",
       "      <td>Напиток Энерг. Ред Булл 0,355л</td>\n",
       "      <td>1.000</td>\n",
       "      <td>10</td>\n",
       "      <td>6</td>\n",
       "      <td>83</td>\n",
       "      <td>None</td>\n",
       "      <td>напиток</td>\n",
       "    </tr>\n",
       "    <tr>\n",
       "      <th>45681543</th>\n",
       "      <td>9908635</td>\n",
       "      <td>5</td>\n",
       "      <td>01:09</td>\n",
       "      <td>Хеменгуэй Дайкири</td>\n",
       "      <td>1.000</td>\n",
       "      <td>15</td>\n",
       "      <td>6</td>\n",
       "      <td>0</td>\n",
       "      <td>None</td>\n",
       "      <td>пиво</td>\n",
       "    </tr>\n",
       "    <tr>\n",
       "      <th>45690702</th>\n",
       "      <td>9929539</td>\n",
       "      <td>0</td>\n",
       "      <td>14:39</td>\n",
       "      <td>Пиво светлое \"Халзан\" 4,5 % об, пл/б. 1,5 л(шт)</td>\n",
       "      <td>1.000</td>\n",
       "      <td>10</td>\n",
       "      <td>6</td>\n",
       "      <td>0</td>\n",
       "      <td>None</td>\n",
       "      <td>пиво</td>\n",
       "    </tr>\n",
       "    <tr>\n",
       "      <th>45692298</th>\n",
       "      <td>9932986</td>\n",
       "      <td>3</td>\n",
       "      <td>22:26</td>\n",
       "      <td>Экспресс педикюр</td>\n",
       "      <td>1.000</td>\n",
       "      <td>15</td>\n",
       "      <td>6</td>\n",
       "      <td>42</td>\n",
       "      <td>None</td>\n",
       "      <td>лак</td>\n",
       "    </tr>\n",
       "    <tr>\n",
       "      <th>45700308</th>\n",
       "      <td>9951356</td>\n",
       "      <td>4</td>\n",
       "      <td>03:16</td>\n",
       "      <td>Конфеты Харитоша 1кг мол. ваф Яшкино</td>\n",
       "      <td>0.255</td>\n",
       "      <td>11</td>\n",
       "      <td>6</td>\n",
       "      <td>84</td>\n",
       "      <td>None</td>\n",
       "      <td>хлеб</td>\n",
       "    </tr>\n",
       "  </tbody>\n",
       "</table>\n",
       "<p>48225 rows × 10 columns</p>\n",
       "</div>"
      ],
      "text/plain": [
       "          receipt_id  receipt_dayofweek  ... brands most_common\n",
       "1                 11                  6  ...   None      молоко\n",
       "3                 39                  4  ...   None       салат\n",
       "4                 39                  4  ...   None       салат\n",
       "17                56                  5  ...   None        кофе\n",
       "40               105                  3  ...   None        хлеб\n",
       "...              ...                ...  ...    ...         ...\n",
       "45669181     9880594                  2  ...   None     напиток\n",
       "45681543     9908635                  5  ...   None        пиво\n",
       "45690702     9929539                  0  ...   None        пиво\n",
       "45692298     9932986                  3  ...   None         лак\n",
       "45700308     9951356                  4  ...   None        хлеб\n",
       "\n",
       "[48225 rows x 10 columns]"
      ]
     },
     "execution_count": 45,
     "metadata": {
      "tags": []
     },
     "output_type": "execute_result"
    }
   ],
   "source": [
    "train"
   ]
  }
 ],
 "metadata": {
  "colab": {
   "collapsed_sections": [],
   "name": "frequent.ipynb",
   "provenance": []
  },
  "kernelspec": {
   "display_name": "Python 3",
   "language": "python",
   "name": "python3"
  },
  "language_info": {
   "codemirror_mode": {
    "name": "ipython",
    "version": 3
   },
   "file_extension": ".py",
   "mimetype": "text/x-python",
   "name": "python",
   "nbconvert_exporter": "python",
   "pygments_lexer": "ipython3",
   "version": "3.8.3"
  }
 },
 "nbformat": 4,
 "nbformat_minor": 1
}
